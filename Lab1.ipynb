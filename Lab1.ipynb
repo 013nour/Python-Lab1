{
 "cells": [
  {
   "cell_type": "code",
   "execution_count": null,
   "id": "0f85f2d2-e94a-4d55-8abe-27e257374021",
   "metadata": {},
   "outputs": [],
   "source": [
    "'''\n",
    "Define a variable that has a value of your favorite season.\n",
    "Define “x“ variable has an integer value and variable “y” has a float value.\n",
    "Assign One Value to Multiple Variables.\n",
    "Assign Many Values to Multiple Variables.\n",
    "'''"
   ]
  },
  {
   "cell_type": "code",
   "execution_count": 2,
   "id": "64c1bb10-4172-4714-a07e-86dc1bc2037b",
   "metadata": {
    "tags": []
   },
   "outputs": [],
   "source": [
    "FavSeason = 'Winter'\n",
    "\n",
    "x = 3\n",
    "y = 3.1\n",
    "\n",
    "val0 = val1 = val2 = 3\n",
    "i, j, k = 1, 2, 3"
   ]
  },
  {
   "cell_type": "code",
   "execution_count": 5,
   "id": "f687794b-c66f-451a-810d-d6a6c553b341",
   "metadata": {
    "tags": []
   },
   "outputs": [
    {
     "name": "stdout",
     "output_type": "stream",
     "text": [
      "favorite season : Winter\n",
      "x : 3\n",
      "y : 3.1\n",
      "val0 = 3 val1 = 3 val2 = 3 \n",
      "i = 1 j = 2 k = 3 \n"
     ]
    }
   ],
   "source": [
    "print (\"favorite season : \" + str(FavSeason))\n",
    "print (\"x : \" + str(x))\n",
    "print (\"y : \" + str(y))\n",
    "print (\"val0 = {} val1 = {} val2 = {} \".format(val0, val1, val2 ))\n",
    "print (\"i = {} j = {} k = {} \".format(i, j, k ))"
   ]
  },
  {
   "cell_type": "code",
   "execution_count": null,
   "id": "2f59ead0-e9c9-4b40-b5e4-aeba8972cba7",
   "metadata": {},
   "outputs": [],
   "source": []
  }
 ],
 "metadata": {
  "kernelspec": {
   "display_name": "Python 3 (ipykernel)",
   "language": "python",
   "name": "python3"
  },
  "language_info": {
   "codemirror_mode": {
    "name": "ipython",
    "version": 3
   },
   "file_extension": ".py",
   "mimetype": "text/x-python",
   "name": "python",
   "nbconvert_exporter": "python",
   "pygments_lexer": "ipython3",
   "version": "3.11.5"
  }
 },
 "nbformat": 4,
 "nbformat_minor": 5
}
